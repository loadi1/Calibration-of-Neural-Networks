{
 "cells": [
  {
   "cell_type": "code",
   "execution_count": 1,
   "id": "c81071ea",
   "metadata": {},
   "outputs": [],
   "source": [
    "from Data import cifar10, cifar100, otto\n",
    "from Net import resnet\n",
    "from Metrics import metrics"
   ]
  },
  {
   "cell_type": "code",
   "execution_count": 2,
   "id": "41962d52",
   "metadata": {},
   "outputs": [
    {
     "name": "stdout",
     "output_type": "stream",
     "text": [
      "Files already downloaded and verified\n"
     ]
    }
   ],
   "source": [
    "train_loader, val_loader = cifar100.get_train_valid_loader(256, True, 42)"
   ]
  },
  {
   "cell_type": "code",
   "execution_count": null,
   "id": "9be167a8",
   "metadata": {},
   "outputs": [],
   "source": [
    "test_loader = cifar100.get_test_loader()"
   ]
  },
  {
   "cell_type": "code",
   "execution_count": 3,
   "id": "9b7f63ea",
   "metadata": {},
   "outputs": [
    {
     "name": "stdout",
     "output_type": "stream",
     "text": [
      "Files already downloaded and verified\n"
     ]
    }
   ],
   "source": [
    "train_loader, val_loader = cifar10.get_train_valid_loader(256, True, 42)"
   ]
  },
  {
   "cell_type": "code",
   "execution_count": 6,
   "id": "1a1afb92",
   "metadata": {},
   "outputs": [
    {
     "name": "stdout",
     "output_type": "stream",
     "text": [
      "[otto] CSV files not found – downloading from Kaggle …\n",
      "Downloading otto-group-product-classification-challenge.zip to data/otto\n",
      "\n"
     ]
    },
    {
     "name": "stderr",
     "output_type": "stream",
     "text": [
      "100%|██████████| 6.05M/6.05M [00:00<00:00, 1.14GB/s]\n"
     ]
    }
   ],
   "source": [
    "KAG_CFG_DIR = \"./.kaggle\" \n",
    "\n",
    "train_loader, val_loader = otto.get_train_valid_loader(\n",
    "    batch_size=256,\n",
    "    random_seed=42,\n",
    "    valid_size=0.1,\n",
    "    kaggle_config_dir=KAG_CFG_DIR,\n",
    ")\n",
    "\n",
    "test_loader = otto.get_test_loader(\n",
    "    batch_size=256,\n",
    "    kaggle_config_dir=KAG_CFG_DIR,\n",
    ")"
   ]
  },
  {
   "cell_type": "code",
   "execution_count": null,
   "id": "0be6a2d3",
   "metadata": {},
   "outputs": [],
   "source": []
  }
 ],
 "metadata": {
  "kernelspec": {
   "display_name": "Python 3",
   "language": "python",
   "name": "python3"
  },
  "language_info": {
   "codemirror_mode": {
    "name": "ipython",
    "version": 3
   },
   "file_extension": ".py",
   "mimetype": "text/x-python",
   "name": "python",
   "nbconvert_exporter": "python",
   "pygments_lexer": "ipython3",
   "version": "3.12.3"
  }
 },
 "nbformat": 4,
 "nbformat_minor": 5
}
